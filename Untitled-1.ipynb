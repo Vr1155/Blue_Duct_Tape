{
 "cells": [
  {
   "cell_type": "code",
   "execution_count": 1,
   "metadata": {},
   "outputs": [
    {
     "name": "stdout",
     "output_type": "stream",
     "text": [
      "saksham\n",
      "pass\n",
      "Table 'users' created.\n"
     ]
    }
   ],
   "source": [
    "import sqlite3\n",
    "import os\n",
    "\n",
    "# Function to connect to the SQLite database with a password check\n",
    "def connect_to_db(db_name,):\n",
    "    # Replace with your desired password (this is just an example for demonstration)\n",
    "    correct_password = \"password\"\n",
    "    # Create the SQLite database file if it doesn't exist\n",
    "    db_path = f\"{db_name}.db\"\n",
    "    connection = sqlite3.connect(db_path)\n",
    "    \n",
    "    return connection\n",
    "\n",
    "# Function to create a table if it doesn't exist\n",
    "def create_table_if_not_exists(connection, table_name):\n",
    "    cursor = connection.cursor()\n",
    "    \n",
    "    # Check if table exists\n",
    "    cursor.execute(f\"SELECT name FROM sqlite_master WHERE type='table' AND name='{table_name}';\")\n",
    "    result = cursor.fetchone()\n",
    "    \n",
    "    if result is None:\n",
    "        # Create the table if it doesn't exist\n",
    "        cursor.execute(f'''\n",
    "            CREATE TABLE {table_name} (\n",
    "                id INTEGER PRIMARY KEY AUTOINCREMENT,\n",
    "                name TEXT NOT NULL,\n",
    "                password TEXT NOT NULL,\n",
    "                email TEXT NOT NULL,\n",
    "                phone INTEGER,\n",
    "                details TEXT\n",
    "            );\n",
    "        ''')\n",
    "        print(f\"Table '{table_name}' created.\")\n",
    "    else:\n",
    "        print(f\"Table '{table_name}' already exists.\")\n",
    "    \n",
    "    connection.commit()\n",
    "\n",
    "# Example usage\n",
    "if __name__ == \"__main__\":\n",
    "    # Database and table details\n",
    "    db_name = \"blue_duct_tape\"\n",
    "    table_name = \"users\"\n",
    "    print('saksham')\n",
    "    \n",
    "    # Replace with the password you want to check (this is just an example for demonstration)\n",
    "    print(\"pass\")\n",
    "\n",
    "    try:\n",
    "        # Connect to the database with password verification\n",
    "        connection = connect_to_db(db_name)\n",
    "\n",
    "        # Create the table if it doesn't exist\n",
    "        create_table_if_not_exists(connection, table_name)\n",
    "\n",
    "    except Exception as e:\n",
    "        print(f\"Error: {e}\")\n",
    "\n",
    "    finally:\n",
    "        # Close the connection if it was established\n",
    "        if 'connection' in locals():\n",
    "            connection.close()\n"
   ]
  }
 ],
 "metadata": {
  "kernelspec": {
   "display_name": "Python 3",
   "language": "python",
   "name": "python3"
  },
  "language_info": {
   "codemirror_mode": {
    "name": "ipython",
    "version": 3
   },
   "file_extension": ".py",
   "mimetype": "text/x-python",
   "name": "python",
   "nbconvert_exporter": "python",
   "pygments_lexer": "ipython3",
   "version": "3.12.6"
  }
 },
 "nbformat": 4,
 "nbformat_minor": 2
}

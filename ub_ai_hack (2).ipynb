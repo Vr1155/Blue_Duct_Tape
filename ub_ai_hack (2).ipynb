{
  "nbformat": 4,
  "nbformat_minor": 0,
  "metadata": {
    "colab": {
      "provenance": []
    },
    "kernelspec": {
      "name": "python3",
      "display_name": "Python 3"
    },
    "language_info": {
      "name": "python"
    }
  },
  "cells": [
    {
      "cell_type": "code",
      "execution_count": null,
      "metadata": {
        "id": "osITOJKlr00h"
      },
      "outputs": [],
      "source": [
        "import google.generativeai as genai\n",
        "from google.colab import userdata"
      ]
    },
    {
      "cell_type": "code",
      "source": [
        "GEMINI_API_KEY=userdata.get('gemini_api_key')\n",
        "genai.configure(api_key=GEMINI_API_KEY)"
      ],
      "metadata": {
        "id": "1yqsTbBJr_Lx"
      },
      "execution_count": null,
      "outputs": []
    },
    {
      "cell_type": "code",
      "source": [
        "try:\n",
        "    import speech_recognition as sr\n",
        "    import pyaudio\n",
        "except ImportError:\n",
        "    !pip install SpeechRecognition\n",
        "    !apt-get install -q portaudio19-dev python3-pyaudio\n",
        "    !pip install pyaudio\n",
        "    import speech_recognition as sr\n",
        "    import pyaudio\n",
        "r = sr.Recognizer()\n"
      ],
      "metadata": {
        "id": "wA8bHU7b05iX",
        "colab": {
          "base_uri": "https://localhost:8080/"
        },
        "outputId": "b3ac2590-3854-4760-ff12-ac9547b38c4b"
      },
      "execution_count": null,
      "outputs": [
        {
          "output_type": "stream",
          "name": "stdout",
          "text": [
            "Requirement already satisfied: SpeechRecognition in /usr/local/lib/python3.10/dist-packages (3.10.0)\n",
            "Requirement already satisfied: requests>=2.26.0 in /usr/local/lib/python3.10/dist-packages (from SpeechRecognition) (2.32.3)\n",
            "Requirement already satisfied: charset-normalizer<4,>=2 in /usr/local/lib/python3.10/dist-packages (from requests>=2.26.0->SpeechRecognition) (3.3.2)\n",
            "Requirement already satisfied: idna<4,>=2.5 in /usr/local/lib/python3.10/dist-packages (from requests>=2.26.0->SpeechRecognition) (3.10)\n",
            "Requirement already satisfied: urllib3<3,>=1.21.1 in /usr/local/lib/python3.10/dist-packages (from requests>=2.26.0->SpeechRecognition) (2.2.3)\n",
            "Requirement already satisfied: certifi>=2017.4.17 in /usr/local/lib/python3.10/dist-packages (from requests>=2.26.0->SpeechRecognition) (2024.8.30)\n",
            "Reading package lists...\n",
            "Building dependency tree...\n",
            "Reading state information...\n",
            "The following additional packages will be installed:\n",
            "  libportaudio2 libportaudiocpp0\n",
            "Suggested packages:\n",
            "  portaudio19-doc python-pyaudio-doc\n",
            "The following NEW packages will be installed:\n",
            "  libportaudio2 libportaudiocpp0 portaudio19-dev python3-pyaudio\n",
            "0 upgraded, 4 newly installed, 0 to remove and 49 not upgraded.\n",
            "Need to get 213 kB of archives.\n",
            "After this operation, 1,043 kB of additional disk space will be used.\n",
            "Get:1 http://archive.ubuntu.com/ubuntu jammy/universe amd64 libportaudio2 amd64 19.6.0-1.1 [65.3 kB]\n",
            "Get:2 http://archive.ubuntu.com/ubuntu jammy/universe amd64 libportaudiocpp0 amd64 19.6.0-1.1 [16.1 kB]\n",
            "Get:3 http://archive.ubuntu.com/ubuntu jammy/universe amd64 portaudio19-dev amd64 19.6.0-1.1 [106 kB]\n",
            "Get:4 http://archive.ubuntu.com/ubuntu jammy/universe amd64 python3-pyaudio amd64 0.2.11-1.3ubuntu1 [25.9 kB]\n",
            "Fetched 213 kB in 1s (371 kB/s)\n",
            "Selecting previously unselected package libportaudio2:amd64.\n",
            "(Reading database ... 123614 files and directories currently installed.)\n",
            "Preparing to unpack .../libportaudio2_19.6.0-1.1_amd64.deb ...\n",
            "Unpacking libportaudio2:amd64 (19.6.0-1.1) ...\n",
            "Selecting previously unselected package libportaudiocpp0:amd64.\n",
            "Preparing to unpack .../libportaudiocpp0_19.6.0-1.1_amd64.deb ...\n",
            "Unpacking libportaudiocpp0:amd64 (19.6.0-1.1) ...\n",
            "Selecting previously unselected package portaudio19-dev:amd64.\n",
            "Preparing to unpack .../portaudio19-dev_19.6.0-1.1_amd64.deb ...\n",
            "Unpacking portaudio19-dev:amd64 (19.6.0-1.1) ...\n",
            "Selecting previously unselected package python3-pyaudio.\n",
            "Preparing to unpack .../python3-pyaudio_0.2.11-1.3ubuntu1_amd64.deb ...\n",
            "Unpacking python3-pyaudio (0.2.11-1.3ubuntu1) ...\n",
            "Setting up libportaudio2:amd64 (19.6.0-1.1) ...\n",
            "Setting up libportaudiocpp0:amd64 (19.6.0-1.1) ...\n",
            "Setting up portaudio19-dev:amd64 (19.6.0-1.1) ...\n",
            "Setting up python3-pyaudio (0.2.11-1.3ubuntu1) ...\n",
            "Processing triggers for libc-bin (2.35-0ubuntu3.4) ...\n",
            "/sbin/ldconfig.real: /usr/local/lib/libtbbbind_2_5.so.3 is not a symbolic link\n",
            "\n",
            "/sbin/ldconfig.real: /usr/local/lib/libur_loader.so.0 is not a symbolic link\n",
            "\n",
            "/sbin/ldconfig.real: /usr/local/lib/libtbb.so.12 is not a symbolic link\n",
            "\n",
            "/sbin/ldconfig.real: /usr/local/lib/libtbbbind_2_0.so.3 is not a symbolic link\n",
            "\n",
            "/sbin/ldconfig.real: /usr/local/lib/libtbbmalloc.so.2 is not a symbolic link\n",
            "\n",
            "/sbin/ldconfig.real: /usr/local/lib/libtbbmalloc_proxy.so.2 is not a symbolic link\n",
            "\n",
            "/sbin/ldconfig.real: /usr/local/lib/libur_adapter_opencl.so.0 is not a symbolic link\n",
            "\n",
            "/sbin/ldconfig.real: /usr/local/lib/libtbbbind.so.3 is not a symbolic link\n",
            "\n",
            "/sbin/ldconfig.real: /usr/local/lib/libur_adapter_level_zero.so.0 is not a symbolic link\n",
            "\n",
            "Requirement already satisfied: pyaudio in /usr/lib/python3/dist-packages (0.2.11)\n"
          ]
        }
      ]
    },
    {
      "cell_type": "code",
      "source": [
        "with sr.Microphone() as source:\n",
        "    print(\"Say something!\")\n",
        "    audio = r.listen(source)\n",
        "\n",
        "try:\n",
        "    text = r.recognize_google(audio)\n",
        "    print(\"You said: \" + text)\n",
        "except sr.UnknownValueError:\n",
        "    print(\"Google Speech Recognition could not understand audio\")\n",
        "except sr.RequestError as e:\n",
        "    print(\"Could not request results from Google Speech Recognition service; {0}\".format(e))"
      ],
      "metadata": {
        "colab": {
          "base_uri": "https://localhost:8080/",
          "height": 370
        },
        "id": "aBosqfMUWMGB",
        "outputId": "2d8506e6-e16b-41e7-c751-4d83f8a70220"
      },
      "execution_count": null,
      "outputs": [
        {
          "output_type": "error",
          "ename": "OSError",
          "evalue": "No Default Input Device Available",
          "traceback": [
            "\u001b[0;31m---------------------------------------------------------------------------\u001b[0m",
            "\u001b[0;31mOSError\u001b[0m                                   Traceback (most recent call last)",
            "\u001b[0;32m<ipython-input-4-7a350ceba1ce>\u001b[0m in \u001b[0;36m<cell line: 1>\u001b[0;34m()\u001b[0m\n\u001b[0;32m----> 1\u001b[0;31m \u001b[0;32mwith\u001b[0m \u001b[0msr\u001b[0m\u001b[0;34m.\u001b[0m\u001b[0mMicrophone\u001b[0m\u001b[0;34m(\u001b[0m\u001b[0;34m)\u001b[0m \u001b[0;32mas\u001b[0m \u001b[0msource\u001b[0m\u001b[0;34m:\u001b[0m\u001b[0;34m\u001b[0m\u001b[0;34m\u001b[0m\u001b[0m\n\u001b[0m\u001b[1;32m      2\u001b[0m     \u001b[0mprint\u001b[0m\u001b[0;34m(\u001b[0m\u001b[0;34m\"Say something!\"\u001b[0m\u001b[0;34m)\u001b[0m\u001b[0;34m\u001b[0m\u001b[0;34m\u001b[0m\u001b[0m\n\u001b[1;32m      3\u001b[0m     \u001b[0maudio\u001b[0m \u001b[0;34m=\u001b[0m \u001b[0mr\u001b[0m\u001b[0;34m.\u001b[0m\u001b[0mlisten\u001b[0m\u001b[0;34m(\u001b[0m\u001b[0msource\u001b[0m\u001b[0;34m)\u001b[0m\u001b[0;34m\u001b[0m\u001b[0;34m\u001b[0m\u001b[0m\n\u001b[1;32m      4\u001b[0m \u001b[0;34m\u001b[0m\u001b[0m\n\u001b[1;32m      5\u001b[0m \u001b[0;32mtry\u001b[0m\u001b[0;34m:\u001b[0m\u001b[0;34m\u001b[0m\u001b[0;34m\u001b[0m\u001b[0m\n",
            "\u001b[0;32m/usr/local/lib/python3.10/dist-packages/speech_recognition/__init__.py\u001b[0m in \u001b[0;36m__init__\u001b[0;34m(self, device_index, sample_rate, chunk_size)\u001b[0m\n\u001b[1;32m     85\u001b[0m                 \u001b[0;32massert\u001b[0m \u001b[0;36m0\u001b[0m \u001b[0;34m<=\u001b[0m \u001b[0mdevice_index\u001b[0m \u001b[0;34m<\u001b[0m \u001b[0mcount\u001b[0m\u001b[0;34m,\u001b[0m \u001b[0;34m\"Device index out of range ({} devices available; device index should be between 0 and {} inclusive)\"\u001b[0m\u001b[0;34m.\u001b[0m\u001b[0mformat\u001b[0m\u001b[0;34m(\u001b[0m\u001b[0mcount\u001b[0m\u001b[0;34m,\u001b[0m \u001b[0mcount\u001b[0m \u001b[0;34m-\u001b[0m \u001b[0;36m1\u001b[0m\u001b[0;34m)\u001b[0m\u001b[0;34m\u001b[0m\u001b[0;34m\u001b[0m\u001b[0m\n\u001b[1;32m     86\u001b[0m             \u001b[0;32mif\u001b[0m \u001b[0msample_rate\u001b[0m \u001b[0;32mis\u001b[0m \u001b[0;32mNone\u001b[0m\u001b[0;34m:\u001b[0m  \u001b[0;31m# automatically set the sample rate to the hardware's default sample rate if not specified\u001b[0m\u001b[0;34m\u001b[0m\u001b[0;34m\u001b[0m\u001b[0m\n\u001b[0;32m---> 87\u001b[0;31m                 \u001b[0mdevice_info\u001b[0m \u001b[0;34m=\u001b[0m \u001b[0maudio\u001b[0m\u001b[0;34m.\u001b[0m\u001b[0mget_device_info_by_index\u001b[0m\u001b[0;34m(\u001b[0m\u001b[0mdevice_index\u001b[0m\u001b[0;34m)\u001b[0m \u001b[0;32mif\u001b[0m \u001b[0mdevice_index\u001b[0m \u001b[0;32mis\u001b[0m \u001b[0;32mnot\u001b[0m \u001b[0;32mNone\u001b[0m \u001b[0;32melse\u001b[0m \u001b[0maudio\u001b[0m\u001b[0;34m.\u001b[0m\u001b[0mget_default_input_device_info\u001b[0m\u001b[0;34m(\u001b[0m\u001b[0;34m)\u001b[0m\u001b[0;34m\u001b[0m\u001b[0;34m\u001b[0m\u001b[0m\n\u001b[0m\u001b[1;32m     88\u001b[0m                 \u001b[0;32massert\u001b[0m \u001b[0misinstance\u001b[0m\u001b[0;34m(\u001b[0m\u001b[0mdevice_info\u001b[0m\u001b[0;34m.\u001b[0m\u001b[0mget\u001b[0m\u001b[0;34m(\u001b[0m\u001b[0;34m\"defaultSampleRate\"\u001b[0m\u001b[0;34m)\u001b[0m\u001b[0;34m,\u001b[0m \u001b[0;34m(\u001b[0m\u001b[0mfloat\u001b[0m\u001b[0;34m,\u001b[0m \u001b[0mint\u001b[0m\u001b[0;34m)\u001b[0m\u001b[0;34m)\u001b[0m \u001b[0;32mand\u001b[0m \u001b[0mdevice_info\u001b[0m\u001b[0;34m[\u001b[0m\u001b[0;34m\"defaultSampleRate\"\u001b[0m\u001b[0;34m]\u001b[0m \u001b[0;34m>\u001b[0m \u001b[0;36m0\u001b[0m\u001b[0;34m,\u001b[0m \u001b[0;34m\"Invalid device info returned from PyAudio: {}\"\u001b[0m\u001b[0;34m.\u001b[0m\u001b[0mformat\u001b[0m\u001b[0;34m(\u001b[0m\u001b[0mdevice_info\u001b[0m\u001b[0;34m)\u001b[0m\u001b[0;34m\u001b[0m\u001b[0;34m\u001b[0m\u001b[0m\n\u001b[1;32m     89\u001b[0m                 \u001b[0msample_rate\u001b[0m \u001b[0;34m=\u001b[0m \u001b[0mint\u001b[0m\u001b[0;34m(\u001b[0m\u001b[0mdevice_info\u001b[0m\u001b[0;34m[\u001b[0m\u001b[0;34m\"defaultSampleRate\"\u001b[0m\u001b[0;34m]\u001b[0m\u001b[0;34m)\u001b[0m\u001b[0;34m\u001b[0m\u001b[0;34m\u001b[0m\u001b[0m\n",
            "\u001b[0;32m/usr/lib/python3/dist-packages/pyaudio.py\u001b[0m in \u001b[0;36mget_default_input_device_info\u001b[0;34m(self)\u001b[0m\n\u001b[1;32m    947\u001b[0m         \"\"\"\n\u001b[1;32m    948\u001b[0m \u001b[0;34m\u001b[0m\u001b[0m\n\u001b[0;32m--> 949\u001b[0;31m         \u001b[0mdevice_index\u001b[0m \u001b[0;34m=\u001b[0m \u001b[0mpa\u001b[0m\u001b[0;34m.\u001b[0m\u001b[0mget_default_input_device\u001b[0m\u001b[0;34m(\u001b[0m\u001b[0;34m)\u001b[0m\u001b[0;34m\u001b[0m\u001b[0;34m\u001b[0m\u001b[0m\n\u001b[0m\u001b[1;32m    950\u001b[0m         \u001b[0;32mreturn\u001b[0m \u001b[0mself\u001b[0m\u001b[0;34m.\u001b[0m\u001b[0mget_device_info_by_index\u001b[0m\u001b[0;34m(\u001b[0m\u001b[0mdevice_index\u001b[0m\u001b[0;34m)\u001b[0m\u001b[0;34m\u001b[0m\u001b[0;34m\u001b[0m\u001b[0m\n\u001b[1;32m    951\u001b[0m \u001b[0;34m\u001b[0m\u001b[0m\n",
            "\u001b[0;31mOSError\u001b[0m: No Default Input Device Available"
          ]
        }
      ]
    },
    {
      "cell_type": "code",
      "source": [
        "model = genai.GenerativeModel('gemini-1.5-flash-latest')"
      ],
      "metadata": {
        "id": "VHzUHMlpuzMi"
      },
      "execution_count": null,
      "outputs": []
    },
    {
      "cell_type": "code",
      "source": [
        "print(\"type 'q' to quit chat\")\n",
        "inp = \"You are an AI assistant that will help people understand their insurance and civil policies. You also need to give simple answers so that people can understand easily. No high level terms.\"\n",
        "while inp != 'q':\n",
        "  response = model.generate_content(inp)\n",
        "  print(response.text)\n",
        "  inp = input(\"You: \").lower()"
      ],
      "metadata": {
        "id": "pByiCvcFvD1x"
      },
      "execution_count": null,
      "outputs": []
    },
    {
      "cell_type": "code",
      "source": [
        "from sentence_transformers import SentenceTransformer\n",
        "\n",
        "# 1. Load a pretrained Sentence Transformer model\n",
        "model = SentenceTransformer(\"all-MiniLM-L6-v2\")"
      ],
      "metadata": {
        "id": "YGGmCbYO3kJS",
        "colab": {
          "base_uri": "https://localhost:8080/"
        },
        "outputId": "c2e5831b-4afb-4f9b-921d-2eb80aae4977"
      },
      "execution_count": null,
      "outputs": [
        {
          "output_type": "stream",
          "name": "stderr",
          "text": [
            "/usr/local/lib/python3.10/dist-packages/transformers/tokenization_utils_base.py:1601: FutureWarning: `clean_up_tokenization_spaces` was not set. It will be set to `True` by default. This behavior will be depracted in transformers v4.45, and will be then set to `False` by default. For more details check this issue: https://github.com/huggingface/transformers/issues/31884\n",
            "  warnings.warn(\n"
          ]
        }
      ]
    },
    {
      "cell_type": "code",
      "source": [
        "user_input = inp = input(\"You: \").lower()"
      ],
      "metadata": {
        "id": "QOBjthNQZ4M7",
        "colab": {
          "base_uri": "https://localhost:8080/"
        },
        "outputId": "2c6a1c7d-02d1-494f-bfaa-6061b51b83df"
      },
      "execution_count": 61,
      "outputs": [
        {
          "name": "stdout",
          "output_type": "stream",
          "text": [
            "You: Hi, I am a female entrepreneur are there any policies for me\n"
          ]
        }
      ]
    },
    {
      "cell_type": "code",
      "source": [
        "import json\n",
        "with open(\"policies2-data.json\", \"r\") as f:\n",
        "    policies = json.load(f)\n",
        "\n",
        "policy_ls = []\n",
        "for i in policies.keys():\n",
        "  policy_ls.append(policies[i])\n"
      ],
      "metadata": {
        "id": "kcOSsVSqZ4QV"
      },
      "execution_count": 62,
      "outputs": []
    },
    {
      "cell_type": "code",
      "source": [
        "import numpy as np\n",
        "from sklearn.metrics.pairwise import cosine_similarity\n",
        "user_embedding = model.encode(user_input)\n",
        "policy_embeddings = [model.encode(policy) for policy in policy_ls]\n",
        "\n",
        "# Calculate cosine similarity between user input and policies\n",
        "similarities = cosine_similarity([user_embedding], policy_embeddings).flatten()\n",
        "\n",
        "# Find the most relevant policy\n",
        "best_policy_idx = np.argmax(similarities)\n",
        "print(best_policy_idx)\n",
        "best_policy = policy_ls[best_policy_idx]"
      ],
      "metadata": {
        "colab": {
          "base_uri": "https://localhost:8080/"
        },
        "id": "iOg9s97lagFE",
        "outputId": "fe60d00c-8aa2-4985-f05c-66ec0eae80cd"
      },
      "execution_count": 63,
      "outputs": [
        {
          "output_type": "stream",
          "name": "stdout",
          "text": [
            "5\n"
          ]
        }
      ]
    },
    {
      "cell_type": "code",
      "source": [
        "best_policy"
      ],
      "metadata": {
        "colab": {
          "base_uri": "https://localhost:8080/",
          "height": 105
        },
        "id": "ES6eC5owaggT",
        "outputId": "63440f55-bcd0-4047-d55a-6ffd43dd3dd1"
      },
      "execution_count": 64,
      "outputs": [
        {
          "output_type": "execute_result",
          "data": {
            "text/plain": [
              "\"WBCs provide free, to low-cost counseling and training and focus on women who want to start, grow, and expand their small business.Women's Business Centers (WBCs) are a part a national network of entrepreneurship centers throughout the United States and its territories, which are designed to assist women in starting and growing small businesses. WBCs seek to level the playing field for women entrepreneurs, who still face unique obstacles in the business world.SBA helps women entrepreneurs launch new businesses and compete in the marketplace. There are a number of resources for women-owned businesses including business training, counseling, federal contracts, and access to credit and capital.\""
            ],
            "application/vnd.google.colaboratory.intrinsic+json": {
              "type": "string"
            }
          },
          "metadata": {},
          "execution_count": 64
        }
      ]
    },
    {
      "cell_type": "code",
      "source": [
        "prompt = f\"\"\"\n",
        "You are an AI assistant that helps people understand insurance and civil policies.\n",
        "The user has asked the following question: \"{user_input}\"\n",
        "\n",
        "Here is the most relevant policy:\n",
        "Policy Description: {best_policy}\n",
        "\n",
        "Please respond in a simple and easy-to-understand way, avoiding complex terms.\n",
        "\"\"\"\n",
        "gemini_model = genai.GenerativeModel('gemini-1.5-flash-latest') # Your API call function here\n",
        "# response = gemini_model.generate_content(inp)\n",
        "# Display Gemini's response to the user\n",
        "# print(f\"Gemini's Response: {response}\")"
      ],
      "metadata": {
        "id": "paspFszFaiUJ"
      },
      "execution_count": 65,
      "outputs": []
    },
    {
      "cell_type": "code",
      "source": [
        "response = gemini_model.generate_content(prompt)\n",
        "\n"
      ],
      "metadata": {
        "id": "Omme1z04bcYt",
        "colab": {
          "base_uri": "https://localhost:8080/",
          "height": 34
        },
        "outputId": "dfa93deb-94d6-428b-c146-ea47f3c7b8de"
      },
      "execution_count": 66,
      "outputs": [
        {
          "output_type": "stream",
          "name": "stderr",
          "text": [
            "2024-09-29 16:24:00.007 200 POST /v1beta/models/gemini-1.5-flash-latest:generateContent?%24alt=json%3Benum-encoding%3Dint (127.0.0.1) 1646.81ms\n"
          ]
        }
      ]
    },
    {
      "cell_type": "code",
      "source": [
        "response.candidates[0].content.parts[0].text"
      ],
      "metadata": {
        "colab": {
          "base_uri": "https://localhost:8080/",
          "height": 157
        },
        "id": "UwmdOBGCb5JP",
        "outputId": "9fff172c-8700-416f-f4b2-2b3b47eddddb"
      },
      "execution_count": null,
      "outputs": [
        {
          "output_type": "execute_result",
          "data": {
            "text/plain": [
              "\"Hey there! It's great you're looking into scholarships for college. \\n\\nThe Coca-Cola First Generation Scholarship is a great option for students like you who are the first in their family to go to college. This scholarship offers up to $5,000 to help you pay for your studies. \\n\\nHere's the key information you need to know:\\n\\n**Who can apply:**\\n\\n* You must be a full-time student at a UNCF college (check the list to see if your school is included).\\n* You must be the first person in your family to go to a 4-year college.\\n* You need to have a good academic record (GPA of 3.0 or higher).\\n* You need to show that you have financial need. \\n\\n**What to do:**\\n\\n* Apply online by September 30th, 2024.\\n* Submit your transcript and write an essay.\\n\\n**Important Note:**  This scholarship is NOT available for students at Morehouse College, Spelman College, Clark Atlanta University, or the Interdenominational Theological Center.\\n\\nI hope this helps you understand this scholarship opportunity! Good luck with your search for scholarships! 😊 \\n\""
            ],
            "application/vnd.google.colaboratory.intrinsic+json": {
              "type": "string"
            }
          },
          "metadata": {},
          "execution_count": 44
        }
      ]
    },
    {
      "cell_type": "code",
      "source": [
        "# !pip install gradio"
      ],
      "metadata": {
        "id": "x6mDDUX0cpbm"
      },
      "execution_count": null,
      "outputs": []
    },
    {
      "cell_type": "code",
      "source": [
        "import gradio as gr\n",
        "\n",
        "def echo(message, history):\n",
        "    user_input = message\n",
        "    similarities = cosine_similarity([user_embedding], policy_embeddings).flatten()\n",
        "    best_policy_idx = np.argmax(similarities)\n",
        "    print(best_policy_idx)\n",
        "    best_policy = policy_ls[best_policy_idx]\n",
        "    prompt = f\"\"\"\n",
        "You are an AI assistant that helps people understand insurance and civil policies.\n",
        "The user has asked the following question: \"{user_input}\"\n",
        "\n",
        "Here is the most relevant policy:\n",
        "Policy Description: {best_policy}\n",
        "\n",
        "Please respond in a simple and easy-to-understand way, avoiding complex terms.\n",
        "\"\"\"\n",
        "    gemini_model = genai.GenerativeModel('gemini-1.5-flash-latest')\n",
        "\n",
        "    print(\"=== Prompt==\\n\\n\", prompt)\n",
        "    response = gemini_model.generate_content(prompt)\n",
        "    print(\"\\n\\n=== Response == \",response.candidates[0].content.parts[0].text)\n",
        "    response = str(response.candidates[0].content.parts[0].text)\n",
        "\n",
        "    return response\n",
        "\n",
        "demo = gr.ChatInterface(fn=echo, title=\"Policy AI\")\n",
        "demo.launch(share=True, debug=True)"
      ],
      "metadata": {
        "colab": {
          "base_uri": "https://localhost:8080/",
          "height": 1000
        },
        "id": "4QW92TUPcAvI",
        "outputId": "aad91c59-70f8-47cc-95d7-6936f3e1c352"
      },
      "execution_count": 67,
      "outputs": [
        {
          "output_type": "stream",
          "name": "stdout",
          "text": [
            "Colab notebook detected. This cell will run indefinitely so that you can see errors and logs. To turn off, set debug=False in launch().\n",
            "Running on public URL: https://624d17922115d54064.gradio.live\n",
            "\n",
            "This share link expires in 72 hours. For free permanent hosting and GPU upgrades, run `gradio deploy` from Terminal to deploy to Spaces (https://huggingface.co/spaces)\n"
          ]
        },
        {
          "output_type": "display_data",
          "data": {
            "text/plain": [
              "<IPython.core.display.HTML object>"
            ],
            "text/html": [
              "<div><iframe src=\"https://624d17922115d54064.gradio.live\" width=\"100%\" height=\"500\" allow=\"autoplay; camera; microphone; clipboard-read; clipboard-write;\" frameborder=\"0\" allowfullscreen></iframe></div>"
            ]
          },
          "metadata": {}
        },
        {
          "output_type": "stream",
          "name": "stdout",
          "text": [
            "5\n",
            "=== Prompt==\n",
            "\n",
            " \n",
            "You are an AI assistant that helps people understand insurance and civil policies.\n",
            "The user has asked the following question: \"I am a female entreprenuer, looking for any policies that might help me grow my buisness\"\n",
            "\n",
            "Here is the most relevant policy:\n",
            "Policy Description: WBCs provide free, to low-cost counseling and training and focus on women who want to start, grow, and expand their small business.Women's Business Centers (WBCs) are a part a national network of entrepreneurship centers throughout the United States and its territories, which are designed to assist women in starting and growing small businesses. WBCs seek to level the playing field for women entrepreneurs, who still face unique obstacles in the business world.SBA helps women entrepreneurs launch new businesses and compete in the marketplace. There are a number of resources for women-owned businesses including business training, counseling, federal contracts, and access to credit and capital.\n",
            "\n",
            "Please respond in a simple and easy-to-understand way, avoiding complex terms.\n",
            "\n"
          ]
        },
        {
          "output_type": "stream",
          "name": "stderr",
          "text": [
            "2024-09-29 16:24:51.578 200 POST /v1beta/models/gemini-1.5-flash-latest:generateContent?%24alt=json%3Benum-encoding%3Dint (127.0.0.1) 1517.93ms\n"
          ]
        },
        {
          "output_type": "stream",
          "name": "stdout",
          "text": [
            "\n",
            "\n",
            "=== Response ==  That's great! You're looking to grow your business, and there are resources specifically designed to help women entrepreneurs like you.\n",
            "\n",
            "One option is to look for a **Women's Business Center (WBC)**. These centers offer free or low-cost training and advice to women starting or growing their businesses. They're like a support network for women entrepreneurs, helping them overcome the unique challenges they face.\n",
            "\n",
            "Another resource is the **Small Business Administration (SBA)**. They offer programs and resources specifically for women-owned businesses, including:\n",
            "\n",
            "* **Business training:** Learn valuable skills to improve your business.\n",
            "* **Counseling:** Get expert advice and guidance on your business decisions.\n",
            "* **Federal contracts:**  Get opportunities to work with the government.\n",
            "* **Access to credit and capital:** Find ways to get funding to help your business grow.\n",
            "\n",
            "Finding these resources is a great way to get the support and guidance you need to build a successful business! \n",
            "\n",
            "5\n",
            "=== Prompt==\n",
            "\n",
            " \n",
            "You are an AI assistant that helps people understand insurance and civil policies.\n",
            "The user has asked the following question: \"Are there any policies related to farmers specifically\"\n",
            "\n",
            "Here is the most relevant policy:\n",
            "Policy Description: WBCs provide free, to low-cost counseling and training and focus on women who want to start, grow, and expand their small business.Women's Business Centers (WBCs) are a part a national network of entrepreneurship centers throughout the United States and its territories, which are designed to assist women in starting and growing small businesses. WBCs seek to level the playing field for women entrepreneurs, who still face unique obstacles in the business world.SBA helps women entrepreneurs launch new businesses and compete in the marketplace. There are a number of resources for women-owned businesses including business training, counseling, federal contracts, and access to credit and capital.\n",
            "\n",
            "Please respond in a simple and easy-to-understand way, avoiding complex terms.\n",
            "\n"
          ]
        },
        {
          "output_type": "stream",
          "name": "stderr",
          "text": [
            "2024-09-29 16:25:30.315 200 POST /v1beta/models/gemini-1.5-flash-latest:generateContent?%24alt=json%3Benum-encoding%3Dint (127.0.0.1) 1190.06ms\n"
          ]
        },
        {
          "output_type": "stream",
          "name": "stdout",
          "text": [
            "\n",
            "\n",
            "=== Response ==  While there isn't a specific policy *just* for farmers, there are programs that can help women who are farmers or want to start a farm business. \n",
            "\n",
            "The Women's Business Centers (WBCs) offer free or low-cost advice and training to help women entrepreneurs. They are part of a nationwide network that wants to make it easier for women to start and grow their businesses.  \n",
            "\n",
            "The Small Business Administration (SBA) also has programs to help women-owned businesses, including training, advice, and access to loans.  \n",
            "\n",
            "So, even though there isn't a specific \"farmer's policy,\" these programs can help women who are farmers or who want to be! \n",
            "\n",
            "Keyboard interruption in main thread... closing server.\n",
            "Killing tunnel 127.0.0.1:7865 <> https://624d17922115d54064.gradio.live\n"
          ]
        },
        {
          "output_type": "execute_result",
          "data": {
            "text/plain": []
          },
          "metadata": {},
          "execution_count": 67
        }
      ]
    },
    {
      "cell_type": "code",
      "source": [],
      "metadata": {
        "id": "xvzPpSkUcts-"
      },
      "execution_count": null,
      "outputs": []
    }
  ]
}